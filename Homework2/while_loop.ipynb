{
 "cells": [
  {
   "attachments": {},
   "cell_type": "markdown",
   "metadata": {},
   "source": [
    "1. Create a while loop that repeatedly takes user input and adds the input to a list until the user enters \"done\"."
   ]
  },
  {
   "cell_type": "code",
   "execution_count": 1,
   "metadata": {},
   "outputs": [
    {
     "name": "stdout",
     "output_type": "stream",
     "text": [
      "['1', '23', '4', 'sas', 'yhuish', 'hello', 'why', 'blyaha', '6492', 'ddjjf']\n"
     ]
    }
   ],
   "source": [
    "user_input = input(\"Enter something, to finish enter 'done': \")\n",
    "user_list =[]\n",
    "while user_input != \"done\":\n",
    "    user_list.append(user_input)\n",
    "    user_input = input(\"Enter something, to finish enter 'done': \")\n",
    "else:\n",
    "    print(user_list)"
   ]
  },
  {
   "attachments": {},
   "cell_type": "markdown",
   "metadata": {},
   "source": [
    "2. Create a while loop that generates random numbers and adds them to a list until the sum of all numbers in the list is greater than 100."
   ]
  },
  {
   "cell_type": "code",
   "execution_count": 11,
   "metadata": {},
   "outputs": [
    {
     "name": "stdout",
     "output_type": "stream",
     "text": [
      "[1, 3, 88, 40] 132\n"
     ]
    }
   ],
   "source": [
    "import random\n",
    "\n",
    "integers = []\n",
    "while sum(integers) <=100:\n",
    "    integers.append(random.randint(0,100))\n",
    "\n",
    "print(integers,sum(integers))"
   ]
  },
  {
   "attachments": {},
   "cell_type": "markdown",
   "metadata": {},
   "source": [
    "3. Create a while loop that repeatedly takes user input and appends it to a list, but only if the input is a unique string."
   ]
  },
  {
   "cell_type": "code",
   "execution_count": 14,
   "metadata": {},
   "outputs": [
    {
     "name": "stdout",
     "output_type": "stream",
     "text": [
      "['a', 'b', 'c', 's', 'e', 'r', 'd']\n"
     ]
    }
   ],
   "source": [
    "user_input = input(\"Enter something, to finish enter 'done': \")\n",
    "user_list =[]\n",
    "while user_input != \"done\":\n",
    "    if user_input not in user_list:\n",
    "        user_list.append(user_input)\n",
    "    user_input = input(\"Enter something, to finish enter 'done': \")\n",
    "else:\n",
    "    print(user_list)"
   ]
  },
  {
   "attachments": {},
   "cell_type": "markdown",
   "metadata": {},
   "source": [
    "4. Create a while loop that repeatedly takes user input and appends it to a list, but only if the input is a number greater than 10."
   ]
  },
  {
   "cell_type": "code",
   "execution_count": 5,
   "metadata": {},
   "outputs": [
    {
     "name": "stdout",
     "output_type": "stream",
     "text": [
      "Invalid input\n",
      "Invalid input\n",
      "⬇Result of your input⬇\n",
      "[123.0, 23.0, 45.0]\n"
     ]
    }
   ],
   "source": [
    "user_input = None\n",
    "user_list =[]\n",
    "while user_input != \"done\":\n",
    "    user_input = input(\"Enter a number, to finish enter 'done': \")\n",
    "    try:\n",
    "        user_input = float(user_input)\n",
    "    except:\n",
    "        message = \"Invalid input\" if user_input != \"done\" else \"\\u2B07Result of your input\\u2B07\"\n",
    "        print(message)\n",
    "        continue\n",
    "    if user_input > 10:\n",
    "        user_list.append(user_input)\n",
    "else:\n",
    "    print(user_list)"
   ]
  },
  {
   "attachments": {},
   "cell_type": "markdown",
   "metadata": {},
   "source": [
    "5. Create a while loop that repeatedly takes user input and keeps track of the highest number entered until the user enters \"done\"."
   ]
  },
  {
   "cell_type": "code",
   "execution_count": 6,
   "metadata": {},
   "outputs": [
    {
     "name": "stdout",
     "output_type": "stream",
     "text": [
      "Invalid input\n",
      "Invalid input\n",
      "⬇Result of your input⬇\n",
      "largest=67.0\n"
     ]
    }
   ],
   "source": [
    "user_input = None\n",
    "largest = 0\n",
    "while user_input != \"done\":\n",
    "    user_input = input(\"Enter a number, to finish enter 'done': \")\n",
    "    try:\n",
    "        user_input = float(user_input)\n",
    "    except:\n",
    "        message = \"Invalid input\" if user_input != \"done\" else \"\\u2B07Result of your input\\u2B07\"\n",
    "        print(message)\n",
    "        continue\n",
    "    if user_input > largest:\n",
    "        largest = user_input\n",
    "else:\n",
    "    print(f\"{largest=}\")"
   ]
  }
 ],
 "metadata": {
  "kernelspec": {
   "display_name": "Python 3",
   "language": "python",
   "name": "python3"
  },
  "language_info": {
   "codemirror_mode": {
    "name": "ipython",
    "version": 3
   },
   "file_extension": ".py",
   "mimetype": "text/x-python",
   "name": "python",
   "nbconvert_exporter": "python",
   "pygments_lexer": "ipython3",
   "version": "3.10.7"
  },
  "orig_nbformat": 4,
  "vscode": {
   "interpreter": {
    "hash": "aee8b7b246df8f9039afb4144a1f6fd8d2ca17a180786b69acc140d282b71a49"
   }
  }
 },
 "nbformat": 4,
 "nbformat_minor": 2
}
