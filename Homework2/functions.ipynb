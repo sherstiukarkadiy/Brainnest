{
 "cells": [
  {
   "attachments": {},
   "cell_type": "markdown",
   "metadata": {},
   "source": [
    "1. Write a program that takes a list of numbers and returns the largest number in the list."
   ]
  },
  {
   "cell_type": "code",
   "execution_count": 1,
   "metadata": {},
   "outputs": [
    {
     "name": "stdout",
     "output_type": "stream",
     "text": [
      "9\n"
     ]
    }
   ],
   "source": [
    "numbers = [1, 2, 3, 4, 5, 6, 7, 8, 9]\n",
    "# your code here\n",
    "def largest_num(numbers: list) -> int:\n",
    "    \"\"\"Find the largest number in list\n",
    "\n",
    "    Args:\n",
    "        numbers (list): list with integers\n",
    "\n",
    "    Returns:\n",
    "        int: largest number\n",
    "    \"\"\"\n",
    "    largest_number = 0\n",
    "    for i in numbers:\n",
    "        if i > largest_number:\n",
    "            largest_number = i\n",
    "    return largest_number\n",
    "\n",
    "print(largest_num(numbers))"
   ]
  },
  {
   "attachments": {},
   "cell_type": "markdown",
   "metadata": {},
   "source": [
    "2. Write a program that takes a string and returns the number of vowels in the string."
   ]
  },
  {
   "cell_type": "code",
   "execution_count": 1,
   "metadata": {},
   "outputs": [
    {
     "name": "stdout",
     "output_type": "stream",
     "text": [
      "3\n"
     ]
    }
   ],
   "source": [
    "string = \"Hello, world!\"\n",
    "# your code here\n",
    "def vowels_counter(string: str) -> int:\n",
    "    \"\"\"Calculate the quantity of vowels in a string\n",
    "\n",
    "    Args:\n",
    "        string (str): any string\n",
    "\n",
    "    Returns:\n",
    "        int: quantity of vowels\n",
    "    \"\"\"\n",
    "    \n",
    "    vowels = list(\"eyuoai\")\n",
    "    counter = 0\n",
    "    for letter in string:\n",
    "        if letter in vowels:\n",
    "            counter += 1\n",
    "    return counter\n",
    "\n",
    "print(vowels_counter(string))"
   ]
  },
  {
   "attachments": {},
   "cell_type": "markdown",
   "metadata": {},
   "source": [
    "3. Write a program that takes a list of strings and returns a new list that contains only the strings that start with the letter 'a'."
   ]
  },
  {
   "cell_type": "code",
   "execution_count": 3,
   "metadata": {},
   "outputs": [
    {
     "name": "stdout",
     "output_type": "stream",
     "text": [
      "['apple']\n"
     ]
    }
   ],
   "source": [
    "strings = [\"apple\", \"banana\", \"cherry\", \"date\"]\n",
    "# your code here\n",
    "def a_words(list_of_strings: list) -> list:\n",
    "    \"\"\"returns a new list that contains only the strings that start with the letter 'a'\n",
    "\n",
    "    Args:\n",
    "        list_of_strings (list): list with any strings\n",
    "\n",
    "    Returns:\n",
    "        list: list with words that starts with leter 'a'\n",
    "    \"\"\"\n",
    "    \n",
    "    new_list =[]\n",
    "    for word in list_of_strings:\n",
    "        if word.startswith(\"a\"):\n",
    "            new_list.append(word)\n",
    "    return(new_list)\n",
    "\n",
    "print(a_words(strings))"
   ]
  },
  {
   "attachments": {},
   "cell_type": "markdown",
   "metadata": {},
   "source": [
    "4. Write a program that takes a sentence (string) and returns a dictionary with the count of each word in the sentence."
   ]
  },
  {
   "cell_type": "code",
   "execution_count": 5,
   "metadata": {},
   "outputs": [
    {
     "name": "stdout",
     "output_type": "stream",
     "text": [
      "{1: 'this', 2: 'is', 3: 'a', 4: 'test', 5: 'sentence'}\n"
     ]
    }
   ],
   "source": [
    "sentence = \"this is a test sentence\"\n",
    "# your code here\n",
    "def word_count(sentence: str) -> dict:\n",
    "    \"\"\"returns a dictionary with the count of each word in the sentence\n",
    "\n",
    "    Args:\n",
    "        sentence (str): any string\n",
    "\n",
    "    Returns:\n",
    "        dict: dictionary with the count of each word in the string\n",
    "    \"\"\"\n",
    "    \n",
    "    words = sentence.split()\n",
    "    new_dict={}\n",
    "    for i,w in enumerate(words):\n",
    "        new_dict[i+1] = w\n",
    "    return new_dict\n",
    "\n",
    "print(word_count(sentence))"
   ]
  },
  {
   "attachments": {},
   "cell_type": "markdown",
   "metadata": {},
   "source": [
    "5. Write a program that takes two lists of numbers and returns a new list that contains only the numbers that are common to both lists."
   ]
  },
  {
   "cell_type": "code",
   "execution_count": 7,
   "metadata": {},
   "outputs": [
    {
     "name": "stdout",
     "output_type": "stream",
     "text": [
      "[2, 4, 6, 8]\n"
     ]
    }
   ],
   "source": [
    "list1 = [1, 2, 3, 4, 5, 6, 7, 8, 9]\n",
    "list2 = [2, 4, 6, 8, 10, 12, 14, 16, 18]\n",
    "# your code here\n",
    "def common_nums(list1: list, list2: list) -> list:\n",
    "    \"\"\"returns a new list that contains only the numbers that are common to both lists\n",
    "\n",
    "    Args:\n",
    "        list1 (list): list of integers\n",
    "        list2 (list): list of integers\n",
    "\n",
    "    Returns:\n",
    "        list: list of integers\n",
    "    \"\"\"\n",
    "    \n",
    "    common = set(list1) & set(list2)\n",
    "    return sorted(list(common))\n",
    "\n",
    "print(common_nums(list1,list2))"
   ]
  },
  {
   "attachments": {},
   "cell_type": "markdown",
   "metadata": {},
   "source": [
    "6. Write a program that takes a list of integers and returns a new list that contains only the prime numbers from the original list."
   ]
  },
  {
   "cell_type": "code",
   "execution_count": 16,
   "metadata": {},
   "outputs": [
    {
     "name": "stdout",
     "output_type": "stream",
     "text": [
      "[1, 2, 3, 5, 7, 11, 13]\n"
     ]
    }
   ],
   "source": [
    "numbers = [1,2,3,4,5,6,7,8,9,10,11,12,13,14,15]\n",
    "# your code here\n",
    "def prime_nums(nums_list: list) -> list:\n",
    "    \"\"\"returns a new list that contains only the prime numbers from the user list\n",
    "\n",
    "    Args:\n",
    "        nums_list (list): list of integers\n",
    "\n",
    "    Returns:\n",
    "        list: list of prime integers\n",
    "    \"\"\"\n",
    "    prime_list = []\n",
    "    for num in nums_list:\n",
    "        if 0 <= num <= 2:\n",
    "            prime_list.append(num)\n",
    "            continue\n",
    "        elif not num%2:\n",
    "            continue\n",
    "        \n",
    "        for i in range(2,int(num**0.5)+1):\n",
    "            if not num%i:\n",
    "                break\n",
    "        else:\n",
    "            prime_list.append(num)\n",
    "    return prime_list\n",
    "    \n",
    "print(prime_nums(numbers))            "
   ]
  },
  {
   "attachments": {},
   "cell_type": "markdown",
   "metadata": {},
   "source": [
    "7. Write a program that takes a string and returns the number of words in the string."
   ]
  },
  {
   "cell_type": "code",
   "execution_count": 18,
   "metadata": {},
   "outputs": [
    {
     "name": "stdout",
     "output_type": "stream",
     "text": [
      "7\n"
     ]
    }
   ],
   "source": [
    "string = \"Write a program that takes a string\"\n",
    "# your code here\n",
    "def words_counter(string: str) -> int:\n",
    "    \"\"\" calculate the number of words in the string\n",
    "\n",
    "    Args:\n",
    "        string (str): any string\n",
    "\n",
    "    Returns:\n",
    "        int: number of words\n",
    "    \"\"\"\n",
    "    return len(string.replace(\",\",\"\").split())\n",
    "\n",
    "print(words_counter(string))"
   ]
  },
  {
   "attachments": {},
   "cell_type": "markdown",
   "metadata": {},
   "source": [
    "8. Write a program that takes a list of strings and returns a new list that contains only the strings that are palindrome."
   ]
  },
  {
   "cell_type": "code",
   "execution_count": 20,
   "metadata": {},
   "outputs": [
    {
     "name": "stdout",
     "output_type": "stream",
     "text": [
      "['madam', 'level', 'civic', 'ololo']\n"
     ]
    }
   ],
   "source": [
    "strings = [\"madam\", \"level\", \"civic\", 5, 2.345, \"palindrome\",\"ololo\"]\n",
    "# your code here\n",
    "def are_palindroms(list_of_strings: list) -> list:\n",
    "    \"\"\"returns a new list that contains only the strings that are palindrome\n",
    "\n",
    "    Args:\n",
    "        list_of_strings (list): list of any strings\n",
    "\n",
    "    Returns:\n",
    "        list: list of palindromes\n",
    "    \"\"\"\n",
    "    \n",
    "    new_list = []\n",
    "    for word in list_of_strings:\n",
    "        if not isinstance(word, str): continue\n",
    "        elif word == word[::-1]:\n",
    "            new_list.append(word)\n",
    "    return new_list\n",
    "\n",
    "print(are_palindroms(strings))"
   ]
  },
  {
   "attachments": {},
   "cell_type": "markdown",
   "metadata": {},
   "source": [
    "9. Write a program that takes a sentence (string) and returns a tuple of the most frequent word and its frequency."
   ]
  },
  {
   "cell_type": "code",
   "execution_count": 30,
   "metadata": {},
   "outputs": [
    {
     "name": "stdout",
     "output_type": "stream",
     "text": [
      "('test', 3)\n"
     ]
    }
   ],
   "source": [
    "sentence = \"this is a test sentence to test the test\"\n",
    "# your code here\n",
    "def the_most_frequent(string: str) -> tuple:\n",
    "    \"\"\"returns a tuple of the most frequent word and its frequency\n",
    "\n",
    "    Args:\n",
    "        string (str): any string\n",
    "\n",
    "    Returns:\n",
    "        tuple: (word,frequency)\n",
    "    \"\"\"\n",
    "    \n",
    "    story = []\n",
    "    string = string.replace(\",\",\"\").split()\n",
    "    frequency = 0\n",
    "    res_word = None\n",
    "    for word in string:\n",
    "        if word not in story:\n",
    "            counter = string.count(word)\n",
    "            story.append(word)\n",
    "            if counter > frequency: \n",
    "                res_word,frequency = word,counter\n",
    "    return res_word,frequency\n",
    "\n",
    "print(the_most_frequent(sentence))"
   ]
  }
 ],
 "metadata": {
  "kernelspec": {
   "display_name": "Python 3",
   "language": "python",
   "name": "python3"
  },
  "language_info": {
   "codemirror_mode": {
    "name": "ipython",
    "version": 3
   },
   "file_extension": ".py",
   "mimetype": "text/x-python",
   "name": "python",
   "nbconvert_exporter": "python",
   "pygments_lexer": "ipython3",
   "version": "3.10.7"
  },
  "orig_nbformat": 4,
  "vscode": {
   "interpreter": {
    "hash": "f7a5be651532581cb44625d52e18aa1d390cab54bc6b51099d8c30bea9b68219"
   }
  }
 },
 "nbformat": 4,
 "nbformat_minor": 2
}
