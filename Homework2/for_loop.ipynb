{
 "cells": [
  {
   "attachments": {},
   "cell_type": "markdown",
   "metadata": {},
   "source": [
    "1. Create a for loop that iterates through a list of strings and prints each string in uppercase."
   ]
  },
  {
   "cell_type": "code",
   "execution_count": 2,
   "metadata": {},
   "outputs": [
    {
     "name": "stdout",
     "output_type": "stream",
     "text": [
      "ABC\n",
      "QWE\n",
      "RTY\n",
      "UIO\n",
      "PSD\n",
      "FGH\n"
     ]
    }
   ],
   "source": [
    "string_list = [\"abc\",\"qwe\",\"rty\",\"uio\",\"psd\",\"fgh\"]\n",
    "\n",
    "for string in string_list:\n",
    "    print(string.upper())\n",
    "    "
   ]
  },
  {
   "attachments": {},
   "cell_type": "markdown",
   "metadata": {},
   "source": [
    "2. Create a for loop that iterates through a list of numbers and prints the square of each number."
   ]
  },
  {
   "cell_type": "code",
   "execution_count": 3,
   "metadata": {},
   "outputs": [
    {
     "name": "stdout",
     "output_type": "stream",
     "text": [
      "1\n",
      "4\n",
      "9\n",
      "16\n",
      "25\n",
      "36\n",
      "49\n",
      "64\n",
      "81\n"
     ]
    }
   ],
   "source": [
    "numbers = [1,2,3,4,5,6,7,8,9]\n",
    "\n",
    "for number in numbers:\n",
    "    print(number**2)\n",
    "    "
   ]
  },
  {
   "attachments": {},
   "cell_type": "markdown",
   "metadata": {},
   "source": [
    "3. Create a for loop that iterates through a list of dictionaries and prints the value of a specified key for each dictionary."
   ]
  },
  {
   "cell_type": "code",
   "execution_count": 4,
   "metadata": {},
   "outputs": [
    {
     "name": "stdout",
     "output_type": "stream",
     "text": [
      "Arkadiy\n",
      "Igor\n",
      "Serhey\n"
     ]
    }
   ],
   "source": [
    "dicts = [\n",
    "    {\n",
    "        \"name\": \"Arkadiy\",\n",
    "        \"age\": 23\n",
    "    },\n",
    "    {\n",
    "        \"name\": \"Igor\",\n",
    "        \"age\": 18\n",
    "    },\n",
    "    {\n",
    "        \"name\": \"Serhey\",\n",
    "        \"age\": 32\n",
    "    }\n",
    "]\n",
    "\n",
    "for person in dicts:\n",
    "    print(person[\"name\"])"
   ]
  },
  {
   "attachments": {},
   "cell_type": "markdown",
   "metadata": {},
   "source": [
    "4. Create a for loop that iterates through a list of numbers and prints the largest number in the list."
   ]
  },
  {
   "cell_type": "code",
   "execution_count": 6,
   "metadata": {},
   "outputs": [
    {
     "name": "stdout",
     "output_type": "stream",
     "text": [
      "123\n"
     ]
    }
   ],
   "source": [
    "numbers = [1,2,3,4,5,123,6,7,8,9]\n",
    "\n",
    "largest_num = 0\n",
    "for number in numbers:\n",
    "    if number > largest_num:\n",
    "        largest_num = number\n",
    "\n",
    "print(largest_num)\n",
    "    "
   ]
  },
  {
   "attachments": {},
   "cell_type": "markdown",
   "metadata": {},
   "source": [
    "5. Create a for loop that iterates through a list of lists and prints the sum of the elements in each sub-list."
   ]
  },
  {
   "cell_type": "code",
   "execution_count": 7,
   "metadata": {},
   "outputs": [
    {
     "name": "stdout",
     "output_type": "stream",
     "text": [
      "45\n",
      "735\n",
      "79020\n",
      "1874250\n"
     ]
    }
   ],
   "source": [
    "lists = [\n",
    "    list(range(10)),\n",
    "    list(range(10,40)),\n",
    "    list(range(40,400)),\n",
    "    list(range(500,2000))\n",
    "]\n",
    "\n",
    "for nums in lists:\n",
    "    print(sum(nums))\n"
   ]
  }
 ],
 "metadata": {
  "kernelspec": {
   "display_name": "Python 3",
   "language": "python",
   "name": "python3"
  },
  "language_info": {
   "codemirror_mode": {
    "name": "ipython",
    "version": 3
   },
   "file_extension": ".py",
   "mimetype": "text/x-python",
   "name": "python",
   "nbconvert_exporter": "python",
   "pygments_lexer": "ipython3",
   "version": "3.10.7"
  },
  "orig_nbformat": 4,
  "vscode": {
   "interpreter": {
    "hash": "aee8b7b246df8f9039afb4144a1f6fd8d2ca17a180786b69acc140d282b71a49"
   }
  }
 },
 "nbformat": 4,
 "nbformat_minor": 2
}
