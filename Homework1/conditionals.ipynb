{
 "cells": [
  {
   "attachments": {},
   "cell_type": "markdown",
   "metadata": {},
   "source": [
    "1. Write a program that prompts the user for a string and checks whether the string is a palindrome (i.e., the string reads the same forward and backward)."
   ]
  },
  {
   "cell_type": "code",
   "execution_count": 3,
   "metadata": {},
   "outputs": [
    {
     "name": "stdout",
     "output_type": "stream",
     "text": [
      "ololo is a palindrome\n"
     ]
    }
   ],
   "source": [
    "user_inp = input(\"Enter something:\\n>\")\n",
    "\n",
    "if user_inp == user_inp[::-1]:\n",
    "    print(f\"{user_inp} is a palindrome\")\n",
    "else:\n",
    "    print(f\"{user_inp} is not a palindrome\")"
   ]
  },
  {
   "attachments": {},
   "cell_type": "markdown",
   "metadata": {},
   "source": [
    "2. Write a program that takes in a list of integers and returns the sum of all even numbers in the list."
   ]
  },
  {
   "cell_type": "code",
   "execution_count": 5,
   "metadata": {},
   "outputs": [
    {
     "name": "stdout",
     "output_type": "stream",
     "text": [
      "110\n"
     ]
    }
   ],
   "source": [
    "user_list = input(\"Enter list of integer variables split them by ','\\nExample: 1,2,3,4,5\\n>\").split(\",\")\n",
    "\n",
    "even_sum = 0\n",
    "for i in user_list:  \n",
    "    try:\n",
    "        i = int(i)\n",
    "    except:\n",
    "        continue\n",
    "    if not i%2:\n",
    "        even_sum += i\n",
    "        \n",
    "print(even_sum)"
   ]
  },
  {
   "cell_type": "code",
   "execution_count": null,
   "metadata": {},
   "outputs": [],
   "source": [
    "user_list = []\n",
    "user_inp = None\n",
    "while user_inp != 0:\n",
    "    if user_inp:\n",
    "        user_list.append(user_inp)\n",
    "    \n",
    "    try:\n",
    "        user_inp = int(input(\"Enter some number or 0 to finish: \"))\n",
    "    except:\n",
    "        print(\"Not a number\")\n",
    "        user_inp = None\n",
    "        \n",
    "even_sum = 0\n",
    "for i in user_list:  \n",
    "    if not i%2:\n",
    "        even_sum += i\n",
    "\n",
    "print(even_sum)"
   ]
  },
  {
   "attachments": {},
   "cell_type": "markdown",
   "metadata": {},
   "source": [
    "3. Write a program that prompts the user for their age and checks whether they are old enough to vote (i.e., 18 years old or older)."
   ]
  },
  {
   "cell_type": "code",
   "execution_count": 7,
   "metadata": {},
   "outputs": [
    {
     "name": "stdout",
     "output_type": "stream",
     "text": [
      "You can vote\n"
     ]
    }
   ],
   "source": [
    "while True:    \n",
    "    try:\n",
    "        user_age = int(input(\"Enter your age: \"))\n",
    "    except:\n",
    "        print(\"Not correct value\")\n",
    "        continue\n",
    "    break\n",
    "\n",
    "if user_age >= 18:\n",
    "    print(\"You can vote\")\n",
    "else:\n",
    "    print(\"You can't vote\")"
   ]
  },
  {
   "attachments": {},
   "cell_type": "markdown",
   "metadata": {},
   "source": [
    "4. Write a program that takes in a list of integers and returns the largest number in the list that is also divisible by 3."
   ]
  },
  {
   "cell_type": "code",
   "execution_count": 8,
   "metadata": {},
   "outputs": [
    {
     "name": "stdout",
     "output_type": "stream",
     "text": [
      "78\n"
     ]
    }
   ],
   "source": [
    "user_list = input(\"Enter list of integer variables split them by ','\\nExample: 1,2,3,4,5\\n>\").split(\",\")\n",
    "\n",
    "higher_num = 0\n",
    "for i in user_list:  \n",
    "    try:\n",
    "        i = int(i)\n",
    "    except:\n",
    "        continue\n",
    "    if not i%3 and i > higher_num:\n",
    "        higher_num = i\n",
    "        \n",
    "print(higher_num)"
   ]
  },
  {
   "attachments": {},
   "cell_type": "markdown",
   "metadata": {},
   "source": [
    "5. Write a program that prompts the user for a number and checks whether the number is a prime number (i.e., only divisible by 1 and itself)."
   ]
  },
  {
   "cell_type": "code",
   "execution_count": 17,
   "metadata": {},
   "outputs": [
    {
     "name": "stdout",
     "output_type": "stream",
     "text": [
      "51639364269514761561984756816516981 is not prime number\n"
     ]
    }
   ],
   "source": [
    "try:\n",
    "    user_num = int(input(\"Enter an integer number:\\n>\"))\n",
    "except:\n",
    "    print(\"Invalid input\")\n",
    "    \n",
    "for i in range(2,int(user_num**0.5)+1):\n",
    "    if not user_num%i:\n",
    "        print(f\"{user_num} is not prime number\")\n",
    "        break\n",
    "else:\n",
    "    print(f\"{user_num} is a prime number\")"
   ]
  }
 ],
 "metadata": {
  "kernelspec": {
   "display_name": "Python 3",
   "language": "python",
   "name": "python3"
  },
  "language_info": {
   "codemirror_mode": {
    "name": "ipython",
    "version": 3
   },
   "file_extension": ".py",
   "mimetype": "text/x-python",
   "name": "python",
   "nbconvert_exporter": "python",
   "pygments_lexer": "ipython3",
   "version": "3.10.7"
  },
  "orig_nbformat": 4,
  "vscode": {
   "interpreter": {
    "hash": "aee8b7b246df8f9039afb4144a1f6fd8d2ca17a180786b69acc140d282b71a49"
   }
  }
 },
 "nbformat": 4,
 "nbformat_minor": 2
}
