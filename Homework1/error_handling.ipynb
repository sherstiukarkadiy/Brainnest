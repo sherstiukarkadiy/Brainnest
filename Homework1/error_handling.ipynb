{
 "cells": [
  {
   "attachments": {},
   "cell_type": "markdown",
   "metadata": {},
   "source": [
    "1. Write a function that takes a list of integers as an argument, and returns the sum of the integers. Use a try-except block to catch any ValueError exceptions that may be raised when attempting to convert a string to an integer."
   ]
  },
  {
   "cell_type": "code",
   "execution_count": 31,
   "metadata": {},
   "outputs": [
    {
     "data": {
      "text/plain": [
       "26"
      ]
     },
     "execution_count": 31,
     "metadata": {},
     "output_type": "execute_result"
    }
   ],
   "source": [
    "def int_sum(integer_list: list) -> int:\n",
    "    \"\"\"calculate the sum of the integers in the list\n",
    "\n",
    "    Args:\n",
    "        integer_list (list): list of integers\n",
    "\n",
    "    Returns:\n",
    "        int: amount of integers in the list\n",
    "    \"\"\"\n",
    "    \n",
    "    sum = 0\n",
    "    for element in integer_list:\n",
    "        try:\n",
    "            sum += int(element)\n",
    "        except ValueError:\n",
    "            pass\n",
    "    return sum\n",
    "\n",
    "int_sum([1,\"3.0\",4,\"sdfgh\",6,7,8])"
   ]
  },
  {
   "attachments": {},
   "cell_type": "markdown",
   "metadata": {},
   "source": [
    "2. Write a function that takes a filename as an argument, and attempts to open the file. Use a try-except block to catch any FileNotFoundError exceptions that may be raised when attempting to open the file. If the file is successfully opened, the function should return the contents of the file."
   ]
  },
  {
   "cell_type": "code",
   "execution_count": 16,
   "metadata": {},
   "outputs": [],
   "source": [
    "def read_file(filename: str) -> str|None:\n",
    "    \"\"\"Read the file\n",
    "\n",
    "    Args:\n",
    "        filename (str): name of file or file directory_\n",
    "\n",
    "    Returns:\n",
    "        str|None: return file content or None if file is not exist\n",
    "    \"\"\"\n",
    "    \n",
    "    try:\n",
    "        with open(filename, 'r') as file:\n",
    "            contents = file.read()\n",
    "        return contents\n",
    "    except FileNotFoundError:\n",
    "        print(f\"Error: {filename} not found.\")\n"
   ]
  },
  {
   "attachments": {},
   "cell_type": "markdown",
   "metadata": {},
   "source": [
    "3. Write a function that takes a list of strings as an argument, and returns a new list containing only the strings that can be successfully converted to a float. Use a try-except block to catch any ValueError exceptions that may be raised when attempting to convert a string to a float."
   ]
  },
  {
   "cell_type": "code",
   "execution_count": 17,
   "metadata": {},
   "outputs": [
    {
     "data": {
      "text/plain": [
       "['23.0', '41.93']"
      ]
     },
     "execution_count": 17,
     "metadata": {},
     "output_type": "execute_result"
    }
   ],
   "source": [
    "def convert_to_float_list(list: list) -> list:\n",
    "    \"\"\"returns a new list containing only the strings that can be successfully converted to a float\n",
    "    \n",
    "    Args:\n",
    "        list (list): list of strings\n",
    "\n",
    "    Returns:\n",
    "        list: list of strings that can be converted to a float\n",
    "    \"\"\"\n",
    "    \n",
    "    new_list = []\n",
    "    for element in list:\n",
    "        try:\n",
    "            element = float(element)\n",
    "        except:\n",
    "            continue\n",
    "        else:\n",
    "            new_list.append(str(element))\n",
    "    return new_list\n",
    "\n",
    "convert_to_float_list([\"23\",\"sdf\",\"Hello\",\"41.93\",\"World\",\"!\"])"
   ]
  },
  {
   "attachments": {},
   "cell_type": "markdown",
   "metadata": {},
   "source": [
    "4. Write a function that takes a list of dictionaries as an argument, and returns the value of a specified key from each dictionary. Use a try-except block to catch any KeyError exceptions that may be raised when attempting to access a key that does not exist in a dictionary."
   ]
  },
  {
   "cell_type": "code",
   "execution_count": 18,
   "metadata": {},
   "outputs": [],
   "source": [
    "def get_values_from_dicts(dicts: list, key: str|int|tuple) -> list:\n",
    "    \"\"\"returns the value of a specified key from each dictionary in the list\n",
    "    \n",
    "    Args:\n",
    "        dicts (list): list of dictionaries\n",
    "        key (str | int | tuple): any unhashable type value\n",
    "\n",
    "    Returns:\n",
    "        list: list of values\n",
    "    \"\"\"\n",
    "    \n",
    "    values = []\n",
    "    for dictionary in dicts:\n",
    "        try:\n",
    "            values.append(dictionary[key])\n",
    "        except KeyError:\n",
    "            pass\n",
    "    return values"
   ]
  },
  {
   "attachments": {},
   "cell_type": "markdown",
   "metadata": {},
   "source": [
    "5. Write a function that takes a list of integers as an argument, and returns the largest integer in the list. Use a try-except block to catch any ValueError exceptions that may be raised when attempting to compare elements that are not integers."
   ]
  },
  {
   "cell_type": "code",
   "execution_count": 30,
   "metadata": {},
   "outputs": [
    {
     "data": {
      "text/plain": [
       "25"
      ]
     },
     "execution_count": 30,
     "metadata": {},
     "output_type": "execute_result"
    }
   ],
   "source": [
    "def largest_num(integer_list: list) -> int:\n",
    "    \"\"\"find rhe largest integer value in the list\n",
    "\n",
    "    Args:\n",
    "        integer_list (list): list of integers\n",
    "\n",
    "    Returns:\n",
    "        int: largest value\n",
    "    \"\"\"\n",
    "    largest = None \n",
    "    for element in integer_list:\n",
    "        try:\n",
    "            num = int(element)\n",
    "        except ValueError:\n",
    "            continue\n",
    "        \n",
    "        if largest is None or largest < num:\n",
    "            largest = num\n",
    "            \n",
    "    return largest\n",
    "\n",
    "largest_num([1,\"3.0\",25,\"sdfgh\",6,7,8])"
   ]
  }
 ],
 "metadata": {
  "kernelspec": {
   "display_name": "Python 3",
   "language": "python",
   "name": "python3"
  },
  "language_info": {
   "codemirror_mode": {
    "name": "ipython",
    "version": 3
   },
   "file_extension": ".py",
   "mimetype": "text/x-python",
   "name": "python",
   "nbconvert_exporter": "python",
   "pygments_lexer": "ipython3",
   "version": "3.10.7"
  },
  "orig_nbformat": 4,
  "vscode": {
   "interpreter": {
    "hash": "f7a5be651532581cb44625d52e18aa1d390cab54bc6b51099d8c30bea9b68219"
   }
  }
 },
 "nbformat": 4,
 "nbformat_minor": 2
}
