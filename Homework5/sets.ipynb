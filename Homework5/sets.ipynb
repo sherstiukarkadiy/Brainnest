{
 "cells": [
  {
   "attachments": {},
   "cell_type": "markdown",
   "metadata": {},
   "source": [
    "1. Given two sets A and B, write a function to return the symmetric difference between them as a new set. The symmetric difference is the set of elements that are in either A or B, but not in both."
   ]
  },
  {
   "cell_type": "code",
   "execution_count": 3,
   "metadata": {},
   "outputs": [
    {
     "name": "stdout",
     "output_type": "stream",
     "text": [
      "{1, 2, 6, 7}\n"
     ]
    }
   ],
   "source": [
    "def sym_dif(A: set, B: set) -> set:\n",
    "    \"\"\"return the symmetric difference between two sets as a new set\n",
    "\n",
    "    Args:\n",
    "        A (set): set with any elements\n",
    "        B (set): set with any elements\n",
    "    Returns:\n",
    "        set: the symmetric difference set\n",
    "    \"\"\"\n",
    "    return A^B\n",
    "\n",
    "set1 = {1,2,3,4,5}\n",
    "set2 = {3,4,5,6,7}\n",
    "C = sym_dif(set1,set2)\n",
    "print(C)"
   ]
  },
  {
   "attachments": {},
   "cell_type": "markdown",
   "metadata": {},
   "source": [
    "2. Given a list of numbers, write a function to return a set of all prime numbers from the list."
   ]
  },
  {
   "cell_type": "code",
   "execution_count": 4,
   "metadata": {},
   "outputs": [
    {
     "name": "stdout",
     "output_type": "stream",
     "text": [
      "{1, 2, 3, 4, 5, 6, 7, 8, 9}\n"
     ]
    }
   ],
   "source": [
    "def prime_nums(numbers: list) -> set:\n",
    "    \"\"\"Look for all prime numbers\n",
    "\n",
    "    Args:\n",
    "        numbers (list): list of any numbers\n",
    "\n",
    "    Returns:\n",
    "        set: prime numbers\n",
    "    \"\"\"\n",
    "    \n",
    "    return set(numbers)\n",
    "\n",
    "numbers = [1,2,3,4,4,4,3,2,1,5,6,7,6,7,5,6,8,7,9]\n",
    "prime = prime_nums(numbers)\n",
    "print(prime)"
   ]
  },
  {
   "attachments": {},
   "cell_type": "markdown",
   "metadata": {},
   "source": [
    "3. Given a list of words, write a function to return a set of all anagrams in the list."
   ]
  },
  {
   "cell_type": "code",
   "execution_count": 11,
   "metadata": {},
   "outputs": [
    {
     "name": "stdout",
     "output_type": "stream",
     "text": [
      "{'listen', 'silent', 'race', 'care'}\n"
     ]
    }
   ],
   "source": [
    "def anagrams(words: list) -> set:\n",
    "    \"\"\"Return all prime anagrams in the list of words\n",
    "\n",
    "    Args:\n",
    "        words (list): list of words\n",
    "\n",
    "    Returns:\n",
    "        set: set of anagrams\n",
    "    \"\"\"\n",
    "    \n",
    "    words = list(set(map(lambda w: str(w).lower(),words)))\n",
    "    words_letters = list(map(lambda word: sorted(list(word.lower())) if word.isalpha() else None, words))\n",
    "    anagram_words = []\n",
    "    for index, element in enumerate(words_letters):\n",
    "        \n",
    "        if not element: continue\n",
    "        elif words[index] in anagram_words: continue\n",
    "        elif words_letters.count(element) == 1: continue\n",
    "        \n",
    "        word_ind = finder = index\n",
    "        while True:\n",
    "            try:\n",
    "                word_ind = words_letters.index(element, finder)\n",
    "            except ValueError:\n",
    "                break\n",
    "            anagram_words.append(words[word_ind])\n",
    "            finder = word_ind + 1\n",
    "    \n",
    "    return set(anagram_words)\n",
    "\n",
    "words = [\"Listen\", \"silent\", \"anagrams\",\"race\", \"Care\", \"care\", \"silent\", \"anagrams\", 4, 15 ]\n",
    "print(anagrams(words))"
   ]
  },
  {
   "attachments": {},
   "cell_type": "markdown",
   "metadata": {},
   "source": [
    "4. Given a list of sets, write a function to return the Cartesian product of all sets in the list."
   ]
  },
  {
   "cell_type": "code",
   "execution_count": 12,
   "metadata": {},
   "outputs": [
    {
     "name": "stdout",
     "output_type": "stream",
     "text": [
      "[(1, 3, 5), (1, 3, 6), (1, 4, 5), (1, 4, 6), (2, 3, 5), (2, 3, 6), (2, 4, 5), (2, 4, 6)]\n"
     ]
    }
   ],
   "source": [
    "def cartesian_product(sets: list) -> list:\n",
    "    \"\"\"Cartesian product of all sets in the list.\n",
    "    \n",
    "    Args:\n",
    "        sets (list): list of sets\n",
    "\n",
    "    Returns:\n",
    "        list: list of sartesian products in tuples\n",
    "    \"\"\"\n",
    "    \n",
    "    if not sets:\n",
    "        return [()]\n",
    "    res = [[x] for x in sets[0]]\n",
    "    for s in sets[1:]:\n",
    "        res = [r + [x] for r in res for x in s]\n",
    "    return [tuple(x) for x in res]\n",
    "\n",
    "sets_list = [{1, 2}, {3, 4}, {5, 6}]\n",
    "result = cartesian_product(sets_list)\n",
    "print(result)"
   ]
  },
  {
   "cell_type": "code",
   "execution_count": 14,
   "metadata": {},
   "outputs": [
    {
     "name": "stdout",
     "output_type": "stream",
     "text": [
      "[(1, 3, 5), (1, 3, 6), (1, 4, 5), (1, 4, 6), (2, 3, 5), (2, 3, 6), (2, 4, 5), (2, 4, 6)]\n"
     ]
    }
   ],
   "source": [
    "import itertools\n",
    "\n",
    "def cartesian_product(sets: list) -> list:\n",
    "    \"\"\"Cartesian product of all sets in the list.\n",
    "    \n",
    "    Args:\n",
    "        sets (list): list of sets\n",
    "\n",
    "    Returns:\n",
    "        list: list of sartesian products in tuples\n",
    "    \"\"\"\n",
    "    return list(itertools.product(*sets))\n",
    "\n",
    "sets_list = [{1, 2}, {3, 4}, {5, 6}]\n",
    "result = cartesian_product(sets_list)\n",
    "print(result)"
   ]
  }
 ],
 "metadata": {
  "kernelspec": {
   "display_name": "Python 3",
   "language": "python",
   "name": "python3"
  },
  "language_info": {
   "codemirror_mode": {
    "name": "ipython",
    "version": 3
   },
   "file_extension": ".py",
   "mimetype": "text/x-python",
   "name": "python",
   "nbconvert_exporter": "python",
   "pygments_lexer": "ipython3",
   "version": "3.10.7"
  },
  "orig_nbformat": 4,
  "vscode": {
   "interpreter": {
    "hash": "f7a5be651532581cb44625d52e18aa1d390cab54bc6b51099d8c30bea9b68219"
   }
  }
 },
 "nbformat": 4,
 "nbformat_minor": 2
}
