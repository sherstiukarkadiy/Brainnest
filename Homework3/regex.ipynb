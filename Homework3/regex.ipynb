{
 "cells": [
  {
   "attachments": {},
   "cell_type": "markdown",
   "metadata": {},
   "source": [
    "1.  Write a regular expression that matches a date in the format dd/mm/yyyy. For example, the string \"01/01/2021\" should match."
   ]
  },
  {
   "cell_type": "code",
   "execution_count": 3,
   "metadata": {},
   "outputs": [
    {
     "name": "stdout",
     "output_type": "stream",
     "text": [
      "['11/06/1999', '15/10/2001']\n"
     ]
    }
   ],
   "source": [
    "import re\n",
    "\n",
    "def dates_find(text: str) -> list:\n",
    "    \"\"\"find all dates in format dd/mm/yyyy\n",
    "\n",
    "    Args:\n",
    "        text (str): any string\n",
    "\n",
    "    Returns:\n",
    "        list: list of matches\n",
    "    \"\"\"\n",
    "    \n",
    "    return re.findall(r'\\d{2}/\\d{2}/\\d{4}', text)\n",
    "\n",
    "print(dates_find(\"My birthday is my birthday is June 11, or more precisely 11/06/1999, although my friend has 15/10/2001\"))"
   ]
  },
  {
   "attachments": {},
   "cell_type": "markdown",
   "metadata": {},
   "source": [
    "2. Write a regular expression that matches a phone number in the format xxx-xxx-xxxx, where x is a digit. For example, the string \"123-456-7890\" should match."
   ]
  },
  {
   "cell_type": "code",
   "execution_count": 5,
   "metadata": {},
   "outputs": [
    {
     "name": "stdout",
     "output_type": "stream",
     "text": [
      "['053-400-1292', '123-456-7890']\n"
     ]
    }
   ],
   "source": [
    "import re\n",
    "\n",
    "def find_all_telephones(text: str) -> list:\n",
    "    \"\"\"find all tellephones in format xxx-xxx-xxxx\n",
    "\n",
    "    Args:\n",
    "        text (str): any string\n",
    "\n",
    "    Returns:\n",
    "        list: list of matches\n",
    "    \"\"\"\n",
    "    \n",
    "    return re.findall(r'\\d{3}-\\d{3}-\\d{4}', text)\n",
    "\n",
    "print(find_all_telephones(\"My phone number is 053-400-1292, and my wife number is 123-456-7890, but someone think that 12345-6789 - that is not correct\"))"
   ]
  },
  {
   "attachments": {},
   "cell_type": "markdown",
   "metadata": {},
   "source": [
    "3. Write a regular expression that matches a valid email address. For example, the string \"example@example.com\" should match."
   ]
  },
  {
   "cell_type": "code",
   "execution_count": 2,
   "metadata": {},
   "outputs": [
    {
     "name": "stdout",
     "output_type": "stream",
     "text": [
      "['example@example.com', 'other_one.example@example.com']\n"
     ]
    }
   ],
   "source": [
    "import re\n",
    "\n",
    "def find_all_emails(text):\n",
    "    \"\"\"find all emails\n",
    "\n",
    "    Args:\n",
    "        text (str): any string\n",
    "\n",
    "    Returns:\n",
    "        list: list of matches\n",
    "    \"\"\"\n",
    "    \n",
    "    result = re.findall(r\"[a-z,A-Z][\\w\\.]+@[a-z,A-Z]+\\.[a-z]{2,}\", text)\n",
    "    return result\n",
    "\n",
    "print(find_all_emails(\"My email is example@example.com, and my wife mail is other_one.example@example.com, but someone think that example@34.com - that is not correct\"))"
   ]
  },
  {
   "attachments": {},
   "cell_type": "markdown",
   "metadata": {},
   "source": [
    "4. Write a regular expression that matches a string that starts with a word, followed by one or more whitespace characters, followed by another word. For example, the string \"hello world\" should match."
   ]
  },
  {
   "cell_type": "code",
   "execution_count": 5,
   "metadata": {},
   "outputs": [
    {
     "name": "stdout",
     "output_type": "stream",
     "text": [
      "['My email', 'is example', 'and my', 'wife mail', 'but someone', 'think that', 'that is', 'not correct']\n"
     ]
    }
   ],
   "source": [
    "import re\n",
    "\n",
    "def find_all_emails(text):\n",
    "    \"\"\"find all tellephones in format xxx-xxx-xxxx\n",
    "\n",
    "    Args:\n",
    "        text (str): any string\n",
    "\n",
    "    Returns:\n",
    "        list: list of matches\n",
    "    \"\"\"\n",
    "    result = re.findall(r\"\\b[a-z,A-Z]+\\b\\s+\\b[a-z,A-Z]+\\b\", text)\n",
    "    return result\n",
    "\n",
    "print(find_all_emails(\"My email is example@example.com, and my wife mail is other_one.example@example.com, but someone think that example@34.com - that is not correct\"))"
   ]
  },
  {
   "attachments": {},
   "cell_type": "markdown",
   "metadata": {},
   "source": [
    "5. Write a regular expression that matches a string that contains a number with exactly two decimal places. For example, the string \"1.23\" should match, but the string \"1.234\" should not match."
   ]
  },
  {
   "cell_type": "code",
   "execution_count": 2,
   "metadata": {},
   "outputs": [
    {
     "name": "stdout",
     "output_type": "stream",
     "text": [
      "['1.23', '1.23', '123.45']\n"
     ]
    }
   ],
   "source": [
    "import re\n",
    "\n",
    "def find_all_emails(text):\n",
    "    \"\"\"find all numbers with exactly two decimal places\n",
    "\n",
    "    Args:\n",
    "        text (str): any string\n",
    "\n",
    "    Returns:\n",
    "        list: list of matches\n",
    "    \"\"\"\n",
    "    \n",
    "    result = re.findall(r\"\\b\\d+\\.\\d{2}\", text)\n",
    "    return result\n",
    "\n",
    "print(find_all_emails(\"1.23 1.234 123,45 123.45\"))"
   ]
  }
 ],
 "metadata": {
  "kernelspec": {
   "display_name": "Python 3",
   "language": "python",
   "name": "python3"
  },
  "language_info": {
   "codemirror_mode": {
    "name": "ipython",
    "version": 3
   },
   "file_extension": ".py",
   "mimetype": "text/x-python",
   "name": "python",
   "nbconvert_exporter": "python",
   "pygments_lexer": "ipython3",
   "version": "3.10.7"
  },
  "orig_nbformat": 4,
  "vscode": {
   "interpreter": {
    "hash": "aee8b7b246df8f9039afb4144a1f6fd8d2ca17a180786b69acc140d282b71a49"
   }
  }
 },
 "nbformat": 4,
 "nbformat_minor": 2
}
