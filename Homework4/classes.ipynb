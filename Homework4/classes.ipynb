{
 "cells": [
  {
   "attachments": {},
   "cell_type": "markdown",
   "metadata": {},
   "source": [
    "1. Create a class called Rectangle that has attributes width and height. Add methods area and perimeter that calculate the area and perimeter of the rectangle, respectively."
   ]
  },
  {
   "cell_type": "code",
   "execution_count": 3,
   "metadata": {},
   "outputs": [
    {
     "name": "stdout",
     "output_type": "stream",
     "text": [
      "500\n",
      "90\n"
     ]
    }
   ],
   "source": [
    "class Rectangle:\n",
    "    \n",
    "    def __init__(self,width: int,height: int) -> None:\n",
    "        \"\"\"\n",
    "            width (int): Rectangle width\n",
    "            height (int): Rectangle height\n",
    "        \"\"\"\n",
    "        self.width = width\n",
    "        self.height = height\n",
    "        pass\n",
    "    \n",
    "    def area(self):\n",
    "        return self.width * self.height\n",
    "    \n",
    "    def perimeter(self):\n",
    "        return(self.width + self.height) * 2\n",
    "    \n",
    "my_figure = Rectangle(20,25)\n",
    "print(my_figure.area())\n",
    "print(my_figure.perimeter())"
   ]
  },
  {
   "attachments": {},
   "cell_type": "markdown",
   "metadata": {},
   "source": [
    "2. Create a class called Circle that has attribute radius. Add methods area and circumference that calculate the area and circumference of the circle, respectively."
   ]
  },
  {
   "cell_type": "code",
   "execution_count": 1,
   "metadata": {},
   "outputs": [
    {
     "name": "stdout",
     "output_type": "stream",
     "text": [
      "706.86\n",
      "94.25\n"
     ]
    }
   ],
   "source": [
    "from math import pi\n",
    "class Circle:\n",
    "    \n",
    "    def __init__(self, radius: int) -> None:\n",
    "        \"\"\"\n",
    "            radius (int): circle radius\n",
    "        \"\"\"\n",
    "        self.radius = radius\n",
    "        pass\n",
    "    \n",
    "    def area(self) -> int:\n",
    "        \"\"\"\n",
    "        Returns:\n",
    "            int: circle area\n",
    "        \"\"\"\n",
    "        return round(pi * self.radius ** 2, 2)\n",
    "    \n",
    "    def circumference(self) -> int:\n",
    "        \"\"\"\n",
    "        Returns:\n",
    "            int: circle round\n",
    "        \"\"\"\n",
    "        return round(2*pi*self.radius, 2)\n",
    "    \n",
    "my_figure = Circle(15)\n",
    "print(my_figure.area())\n",
    "print(my_figure.circumference())"
   ]
  },
  {
   "attachments": {},
   "cell_type": "markdown",
   "metadata": {},
   "source": [
    "3. Create a class called Car that has attributes make, model, and year. Add methods start and stop that simulate starting and stopping the car, respectively."
   ]
  },
  {
   "cell_type": "code",
   "execution_count": 10,
   "metadata": {},
   "outputs": [
    {
     "name": "stdout",
     "output_type": "stream",
     "text": [
      "Start\n",
      "Stop\n"
     ]
    }
   ],
   "source": [
    "from playsound import playsound\n",
    "\n",
    "class Car:\n",
    "    \n",
    "    def __init__(self,make: str,model: str, year: int) -> None:\n",
    "        \"\"\"\n",
    "            make (str): car make\n",
    "            model (str): car model\n",
    "            year (int): car year of manufacture\n",
    "        \"\"\"\n",
    "        self.make = make\n",
    "        self.model = model\n",
    "        self.year = year\n",
    "        pass\n",
    "    \n",
    "    def start(self) -> None:\n",
    "        print(\"Start\")\n",
    "        playsound(\"car_start.mp3\")\n",
    "        \n",
    "    \n",
    "    def stop(self) -> None:\n",
    "        playsound(\"car_stop.mp3\")\n",
    "        print(\"Stop\")\n",
    "        \n",
    "my_car = Car(\"Wolxwagen\",\"Golf\",2017)\n",
    "my_car.start()\n",
    "my_car.stop()\n"
   ]
  },
  {
   "attachments": {},
   "cell_type": "markdown",
   "metadata": {},
   "source": [
    "4. Create a class called Dice that has attribute sides (the number of sides on the dice). Add a method roll that generates a random number between 1 and the number of sides on the dice."
   ]
  },
  {
   "cell_type": "code",
   "execution_count": 31,
   "metadata": {},
   "outputs": [
    {
     "name": "stdout",
     "output_type": "stream",
     "text": [
      "3\n"
     ]
    }
   ],
   "source": [
    "from random import randint\n",
    "\n",
    "class Dice:\n",
    "    \n",
    "    def __init__(self, sides: int) -> None:\n",
    "        \"\"\"\n",
    "            sides (int): number of sides\n",
    "        \"\"\"\n",
    "        self.sides = sides\n",
    "        pass\n",
    "    \n",
    "    def roll(self) -> int:\n",
    "        \"\"\"\n",
    "        Returns:\n",
    "            int: random integer value between 1 and dice sides\n",
    "        \"\"\"\n",
    "        return randint(1,self.sides)\n",
    "    \n",
    "twenty_dice = Dice(20)\n",
    "print(twenty_dice.roll())"
   ]
  },
  {
   "attachments": {},
   "cell_type": "markdown",
   "metadata": {},
   "source": [
    "5. Create a class called Temperature that has attribute celsius (a temperature in degrees Celsius). Add methods to_fahrenheit and to_kelvin that convert the temperature to degrees Fahrenheit and Kelvin, respectively."
   ]
  },
  {
   "cell_type": "code",
   "execution_count": 32,
   "metadata": {},
   "outputs": [
    {
     "name": "stdout",
     "output_type": "stream",
     "text": [
      "97.88000000000001\n",
      "309.75\n"
     ]
    }
   ],
   "source": [
    "class Temperature:\n",
    "    \n",
    "    def __init__(self,degrees_celsius: float) -> None:\n",
    "        \"\"\"\n",
    "            degrees_celsius (float): value of degrees in celsius\n",
    "        \"\"\"\n",
    "        self.celsius = degrees_celsius\n",
    "        pass\n",
    "    \n",
    "    def to_farenheit(self) -> float:\n",
    "        \"\"\"\n",
    "        Returns:\n",
    "            float: farenheit value\n",
    "        \"\"\"\n",
    "        return (self.celsius * 9 / 5) + 32\n",
    "    \n",
    "    def to_kelvin(self) -> float:\n",
    "        \"\"\"\n",
    "        Returns:\n",
    "            float: kelvin value\n",
    "        \"\"\"\n",
    "        return self.celsius + 273.15\n",
    "    \n",
    "my_temp = Temperature(36.6)\n",
    "print(my_temp.to_farenheit())\n",
    "print(my_temp.to_kelvin())"
   ]
  },
  {
   "attachments": {},
   "cell_type": "markdown",
   "metadata": {},
   "source": [
    "6. Create a class called Book that has attributes title, author, and publication_year. Add a method get_age that calculates how many years ago the book was published."
   ]
  },
  {
   "cell_type": "code",
   "execution_count": 38,
   "metadata": {},
   "outputs": [
    {
     "name": "stdout",
     "output_type": "stream",
     "text": [
      "26\n"
     ]
    }
   ],
   "source": [
    "from datetime import datetime\n",
    "\n",
    "\n",
    "class Book:\n",
    "    \n",
    "    def __init__(self, title: str, author: str, publication_year: int) -> None:\n",
    "\n",
    "        self.title = title\n",
    "        self.author = author\n",
    "        self.p_year = publication_year\n",
    "        pass\n",
    "    \n",
    "    def get_age(self) -> int:\n",
    "        \"\"\"calculates how many years ago the book was published\n",
    "\n",
    "        Returns:\n",
    "            int: results of calculations\n",
    "        \"\"\"\n",
    "        return datetime.today().year - self.p_year\n",
    "    \n",
    "Harry_potter_1 = Book(\"Harry Potter and the Phlosopher's stone\", \"J. Rowling\", 1997)\n",
    "print(Harry_potter_1.get_age())"
   ]
  },
  {
   "attachments": {},
   "cell_type": "markdown",
   "metadata": {},
   "source": [
    "7. Create a class called Rectangle that has attributes width and height. Add methods __str__ and __repr__ that return a string representation of the rectangle object."
   ]
  },
  {
   "cell_type": "code",
   "execution_count": 60,
   "metadata": {},
   "outputs": [
    {
     "name": "stdout",
     "output_type": "stream",
     "text": [
      "* * * * * * * * * * * * * * * * * * * * * * * * * \n",
      "*                                               *\n",
      "*                                               *\n",
      "*                                               *\n",
      "*                                               *\n",
      "*                                               *\n",
      "*                                               *\n",
      "*                                               *\n",
      "*                                               *\n",
      "*                                               *\n",
      "*                                               *\n",
      "*                                               *\n",
      "*                                               *\n",
      "*                                               *\n",
      "*                                               *\n",
      "*                                               *\n",
      "*                                               *\n",
      "* * * * * * * * * * * * * * * * * * * * * * * * * \n",
      "\n"
     ]
    }
   ],
   "source": [
    "class Rectangle:\n",
    "    \n",
    "    def __init__(self,width: int,height: int) -> None:\n",
    "        \"\"\"\n",
    "            width (int): rectangle width\n",
    "            height (int): rectangle height\n",
    "        \"\"\"\n",
    "        self.width = width\n",
    "        self.height = height\n",
    "        pass\n",
    "    \n",
    "    def __str__(self) -> str:\n",
    "        \"\"\"\n",
    "        Returns:\n",
    "            str: string representation of object\n",
    "        \"\"\"\n",
    "        top_bottom_line = \"* \" * self.width + \"\\n\"\n",
    "        a = self.width\n",
    "        side_lines = \"{0:<{a}}{0:>{b}}\\n\".format(\"*\",a=a,b=a-1)\n",
    "        return top_bottom_line + (side_lines * self.height) + top_bottom_line\n",
    "    \n",
    "    def __repr__(self) -> str:\n",
    "        \"\"\"\n",
    "        Returns:\n",
    "            str: string representation of object\n",
    "        \"\"\"\n",
    "        top_bottom_line = \"* \" * self.width + \"\\n\"\n",
    "        a = self.width\n",
    "        side_lines = \"{0:<{a}}{0:>{b}}\\n\".format(\"*\",a=a,b=a-1)\n",
    "        return top_bottom_line + (side_lines * self.height) + top_bottom_line\n",
    "    \n",
    "my_figure = Rectangle(25,16)\n",
    "print(my_figure)"
   ]
  }
 ],
 "metadata": {
  "kernelspec": {
   "display_name": "Python 3",
   "language": "python",
   "name": "python3"
  },
  "language_info": {
   "codemirror_mode": {
    "name": "ipython",
    "version": 3
   },
   "file_extension": ".py",
   "mimetype": "text/x-python",
   "name": "python",
   "nbconvert_exporter": "python",
   "pygments_lexer": "ipython3",
   "version": "3.10.7"
  },
  "orig_nbformat": 4,
  "vscode": {
   "interpreter": {
    "hash": "aee8b7b246df8f9039afb4144a1f6fd8d2ca17a180786b69acc140d282b71a49"
   }
  }
 },
 "nbformat": 4,
 "nbformat_minor": 2
}
