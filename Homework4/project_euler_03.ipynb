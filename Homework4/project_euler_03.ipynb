{
 "cells": [
  {
   "attachments": {},
   "cell_type": "markdown",
   "metadata": {},
   "source": [
    "1. \n",
    "\n",
    "In the United Kingdom the currency is made up of pound (£) and pence (p). There are eight coins in general circulation:\n",
    "\n",
    "    1p, 2p, 5p, 10p, 20p, 50p, £1 (100p), and £2 (200p).\n",
    "\n",
    "It is possible to make £2 in the following way:\n",
    "\n",
    "    1×£1 + 1×50p + 2×20p + 1×5p + 1×2p + 3×1p\n",
    "\n",
    "How many different ways can £2 be made using any number of coins?\n"
   ]
  },
  {
   "cell_type": "code",
   "execution_count": 1,
   "metadata": {},
   "outputs": [
    {
     "ename": "TabError",
     "evalue": "inconsistent use of tabs and spaces in indentation (4130333690.py, line 4)",
     "output_type": "error",
     "traceback": [
      "\u001b[0;36m  Cell \u001b[0;32mIn [1], line 4\u001b[0;36m\u001b[0m\n\u001b[0;31m    r_ways = [1] + [0] * value\u001b[0m\n\u001b[0m    ^\u001b[0m\n\u001b[0;31mTabError\u001b[0m\u001b[0;31m:\u001b[0m inconsistent use of tabs and spaces in indentation\n"
     ]
    }
   ],
   "source": [
    "#useful resolve by list\n",
    "def ways(value: int) -> int:\n",
    "\t\"\"\"Calculaite a quantity of different ways how to make user value using any numbers of pound and pence coins\n",
    "\n",
    "\tArgs:\n",
    "\t\tvalue (int): money value in pences (2 pounds = 200 pences)\n",
    "\n",
    "\tReturns:\n",
    "\t\tint: quantity\n",
    "\t\"\"\"\n",
    " \n",
    "\tr_ways = [1] + [0] * value\n",
    "\tfor coin in [1, 2, 5, 10, 20, 50,100, 200]:\n",
    "\t\tfor i in range(len(r_ways) - coin):\n",
    "\t\t\tr_ways[i + coin] += r_ways[i]\n",
    "\treturn r_ways[-1]\n",
    "\n",
    "print(ways(200))"
   ]
  },
  {
   "cell_type": "code",
   "execution_count": 31,
   "metadata": {},
   "outputs": [
    {
     "name": "stdout",
     "output_type": "stream",
     "text": [
      "73682\n"
     ]
    }
   ],
   "source": [
    "# resolve using recursion (not good optimise, but easy to understand)\n",
    "def count_ways(amount: int,index: int) -> int:\n",
    "    \"\"\"Calculaite a quantity of different ways how to make user value using any numbers of pound and pence coins\n",
    "\n",
    "\tArgs:\n",
    "\t\tamount (int): money value in pences (2 pounds = 200 pences)\n",
    "        index (int): index of using coin\n",
    "\n",
    "\tReturns:\n",
    "\t\tint: quantity\n",
    "\t\"\"\"\n",
    " \n",
    "    coins = [1,2,5,10,20,50,100,200]\n",
    "    \n",
    "    if amount == 0:\n",
    "        return 1\n",
    "    if index == len(coins):\n",
    "        return 0\n",
    "    count = 0\n",
    "    coin_v = coins[index]\n",
    "    i = 0\n",
    "    while i*coin_v <= amount:\n",
    "        count += count_ways(amount - i*coin_v,index + 1)\n",
    "        i += 1\n",
    "    return count\n",
    "\n",
    "print(count_ways(200,0))"
   ]
  },
  {
   "attachments": {},
   "cell_type": "markdown",
   "metadata": {},
   "source": [
    "2. \n",
    "\n",
    "We shall say that an n-digit number is pandigital if it makes use of all the digits 1 to n exactly once; for example, the 5-digit number, 15234, is 1 through 5 pandigital.\n",
    "\n",
    "The product 7254 is unusual, as the identity, 39 × 186 = 7254, containing multiplicand, multiplier, and product is 1 through 9 pandigital.\n",
    "\n",
    "Find the sum of all products whose multiplicand/multiplier/product identity can be written as a 1 through 9 pandigital.\n",
    "HINT: Some products can be obtained in more than one way so be sure to only include it once in your sum.\n"
   ]
  },
  {
   "cell_type": "code",
   "execution_count": 36,
   "metadata": {},
   "outputs": [
    {
     "name": "stdout",
     "output_type": "stream",
     "text": [
      "45228\n"
     ]
    }
   ],
   "source": [
    "def has_pandigital_mult(num: int) -> bool:\n",
    "    \"\"\"Check is the number has pandigital multiplications\n",
    "\n",
    "    Args:\n",
    "        num (int): any number \n",
    "\n",
    "    Returns:\n",
    "        bool: True if number has pandigital multiplications else False\n",
    "    \"\"\"\n",
    "    \n",
    "    num_set = set(map(str, range(1,10)))\n",
    "    for j in range(1,int(num**0.5)+1):\n",
    "        if str(j) in str(num): continue\n",
    "        elif not num%j:\n",
    "            new_set = set(f\"{j}{num}{num//j}\")\n",
    "            if new_set == num_set:\n",
    "                return True\n",
    "    return False\n",
    "\n",
    "total = 0\n",
    "for i in range(1000,10000):\n",
    "    if \"0\" in str(i): continue\n",
    "    elif len(set(str(i))) != len(str(i)): continue\n",
    "    total = total + i if has_pandigital_mult(i) else total\n",
    "\n",
    "print(total)\n"
   ]
  },
  {
   "attachments": {},
   "cell_type": "markdown",
   "metadata": {},
   "source": [
    "3. \n",
    "\n",
    "The fraction 49/98 is a curious fraction, as an inexperienced mathematician in attempting to simplify it may incorrectly believe that 49/98 = 4/8, which is correct, is obtained by cancelling the 9s.\n",
    "\n",
    "We shall consider fractions like, 30/50 = 3/5, to be trivial examples.\n",
    "\n",
    "There are exactly four non-trivial examples of this type of fraction, less than one in value, and containing two digits in the numerator and denominator.\n",
    "\n",
    "If the product of these four fractions is given in its lowest common terms, find the value of the denominator.\n"
   ]
  },
  {
   "cell_type": "code",
   "execution_count": 53,
   "metadata": {},
   "outputs": [
    {
     "name": "stdout",
     "output_type": "stream",
     "text": [
      "100\n"
     ]
    }
   ],
   "source": [
    "def greatest_common_divisor(num1: int,num2: int) -> int:\n",
    "    \"\"\"Find the greatest common divisor\n",
    "\n",
    "    Args:\n",
    "        num1 (int): any number\n",
    "        num2 (int): any number\n",
    "\n",
    "    Returns:\n",
    "        int: greatest common divisor value\n",
    "    \"\"\"\n",
    "    result = num1 if num1 < num2 else num2\n",
    "    while result >= 1:\n",
    "        if not num1%result and not num2%result:\n",
    "            return result\n",
    "        else:\n",
    "            result -= 1\n",
    "\n",
    "fractions = {}\n",
    "for i in range(11,100):\n",
    "    if not i%10 or len(set(str(i))) != 2: continue\n",
    "    for j in range(i,100):\n",
    "        if not j%10 or len(set(str(j))) != 2: continue\n",
    "        common_num = list(set(str(i)) & set(str(j)))\n",
    "        if len(common_num) != 1: continue\n",
    "        common_num = str(common_num[0])\n",
    "        if i/j == int(str(i).replace(common_num,\"\"))/int(str(j).replace(common_num,\"\")):\n",
    "            fractions[i] = j\n",
    "            pass\n",
    "        pass\n",
    "    pass\n",
    "\n",
    "total_numerator = 1\n",
    "total_denumerator = 1\n",
    "for k,v in fractions.items():\n",
    "    total_numerator *= k\n",
    "    total_denumerator *= v\n",
    "\n",
    "result = total_denumerator//greatest_common_divisor(total_numerator,total_denumerator)\n",
    "            \n",
    "print(result)"
   ]
  },
  {
   "attachments": {},
   "cell_type": "markdown",
   "metadata": {},
   "source": [
    "4. \n",
    "\n",
    "145 is a curious number, as 1! + 4! + 5! = 1 + 24 + 120 = 145.\n",
    "\n",
    "Find the sum of all numbers which are equal to the sum of the factorial of their digits.\n",
    "\n",
    "Note: As 1! = 1 and 2! = 2 are not sums they are not included.\n"
   ]
  },
  {
   "cell_type": "code",
   "execution_count": 2,
   "metadata": {},
   "outputs": [
    {
     "name": "stdout",
     "output_type": "stream",
     "text": [
      "40730\n"
     ]
    }
   ],
   "source": [
    "#with zero is equal to 1\n",
    "def factorial(num: int) -> int:\n",
    "    \"\"\"Find factorial of number\n",
    "\n",
    "    Args:\n",
    "        num (int): any number\n",
    "\n",
    "    Returns:\n",
    "        int: factorial\n",
    "    \"\"\"\n",
    "    \n",
    "    if num <= 1:\n",
    "        return 1\n",
    "    else:\n",
    "        return factorial(num-1) * num\n",
    "    \n",
    "def is_curious_number(num: int, factorials: dict) -> bool:\n",
    "    \"\"\"Check if number is curious\n",
    "\n",
    "    Args:\n",
    "        num (int): any number\n",
    "        factorials (dict): dicttionary where keys - integer values, and values are factorials of keys\n",
    "\n",
    "    Returns:\n",
    "        bool: True if number is curious else False\n",
    "    \"\"\"\n",
    "    digit_factorial_sum = sum(factorials[int(digit)] for digit in str(num))\n",
    "    return digit_factorial_sum == num\n",
    "    \n",
    "factorials ={}\n",
    "for i in range(10):\n",
    "    factorials[i] = factorial(i)\n",
    " \n",
    "extreme_limit = 9999999999999\n",
    "num_len = 10\n",
    "while True:\n",
    "    extreme_limit = factorials[9] * num_len\n",
    "    if len(str(extreme_limit)) == num_len:\n",
    "        break\n",
    "    num_len -= 1\n",
    "\n",
    "curious_numbers = []\n",
    "for num in range(3,extreme_limit+1):\n",
    "    if is_curious_number(num,factorials):\n",
    "        curious_numbers.append(num)\n",
    "print(sum(curious_numbers))\n"
   ]
  },
  {
   "attachments": {},
   "cell_type": "markdown",
   "metadata": {},
   "source": [
    "5. \n",
    "\n",
    "The number, 197, is called a circular prime because all rotations of the digits: 197, 971, and 719, are themselves prime.\n",
    "\n",
    "There are thirteen such primes below 100: 2, 3, 5, 7, 11, 13, 17, 31, 37, 71, 73, 79, and 97.\n",
    "\n",
    "How many circular primes are there below one million?\n"
   ]
  },
  {
   "cell_type": "code",
   "execution_count": 100,
   "metadata": {},
   "outputs": [
    {
     "name": "stdout",
     "output_type": "stream",
     "text": [
      "55\n"
     ]
    }
   ],
   "source": [
    "def is_prime(num: int) -> bool:\n",
    "    \"\"\"Check if the number is prime\n",
    "\n",
    "    Args:\n",
    "        num (int): any number\n",
    "\n",
    "    Returns:\n",
    "        bool: True if nuber is prime, else False\n",
    "    \"\"\"\n",
    "    \n",
    "    for i in range(2,int(num**0.5) + 1):\n",
    "        if not num%i:\n",
    "            return False\n",
    "    return True\n",
    "\n",
    "def circular_primes(num: int) -> list|bool:\n",
    "    \"\"\"Returns all circular primes if all of them are prime in other way return False\n",
    "\n",
    "    Args:\n",
    "        num (int): any prime number\n",
    "\n",
    "    Returns:\n",
    "        list|bool: list of circular primes or False\n",
    "    \"\"\"\n",
    "    \n",
    "    digits = list(str(num))\n",
    "    result_list = [num]\n",
    "    \n",
    "    for _ in range(len(digits)):\n",
    "        digits.append(digits.pop(0))\n",
    "        new_num = int(\"\".join(digits))\n",
    "        if new_num == num: continue\n",
    "        if is_prime(new_num):\n",
    "            result_list.append(new_num)\n",
    "        else:\n",
    "            return False\n",
    "    return result_list\n",
    "\n",
    "result = [2]\n",
    "num = 1\n",
    "while num < 1000000:\n",
    "    num += 2\n",
    "    if num in result: continue\n",
    "    if not is_prime(num): continue\n",
    "    \n",
    "    are_circular = circular_primes(num)\n",
    "    if are_circular:\n",
    "        result.extend(are_circular)\n",
    "\n",
    "print(len(result))\n",
    "            "
   ]
  }
 ],
 "metadata": {
  "kernelspec": {
   "display_name": "Python 3",
   "language": "python",
   "name": "python3"
  },
  "language_info": {
   "codemirror_mode": {
    "name": "ipython",
    "version": 3
   },
   "file_extension": ".py",
   "mimetype": "text/x-python",
   "name": "python",
   "nbconvert_exporter": "python",
   "pygments_lexer": "ipython3",
   "version": "3.10.7"
  },
  "orig_nbformat": 4,
  "vscode": {
   "interpreter": {
    "hash": "aee8b7b246df8f9039afb4144a1f6fd8d2ca17a180786b69acc140d282b71a49"
   }
  }
 },
 "nbformat": 4,
 "nbformat_minor": 2
}
